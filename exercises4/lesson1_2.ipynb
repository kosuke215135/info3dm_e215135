{
 "cells": [
  {
   "cell_type": "code",
   "execution_count": 72,
   "id": "b9d472ab-4a7e-4a3c-9533-8987de515d21",
   "metadata": {
    "tags": []
   },
   "outputs": [],
   "source": [
    "import numpy as np\n",
    "np.random.seed(0)\n",
    "x_2 = np.array([])\n",
    "for _ in range(20):\n",
    "    rand_num = np.random.uniform(-1.0, 1.0)\n",
    "    x_2 = np.append(x_2, rand_num)"
   ]
  },
  {
   "cell_type": "code",
   "execution_count": 73,
   "id": "489b71aa-1017-46d5-9aa3-106a1780ada2",
   "metadata": {
    "tags": []
   },
   "outputs": [
    {
     "name": "stdout",
     "output_type": "stream",
     "text": [
      "20\n"
     ]
    }
   ],
   "source": [
    "print(len(x_2))"
   ]
  },
  {
   "cell_type": "code",
   "execution_count": 74,
   "id": "78d6a44f-8321-4046-9e32-5611df2cf9c0",
   "metadata": {
    "tags": []
   },
   "outputs": [],
   "source": [
    "#lesson1_1.ipynbより\n",
    "def true_function(x):\n",
    "    return np.sin(np.pi * x * 0.8) * 10"
   ]
  },
  {
   "cell_type": "code",
   "execution_count": 75,
   "id": "4e517901-2e1b-48e8-be8f-bdb2da618567",
   "metadata": {
    "tags": []
   },
   "outputs": [],
   "source": [
    "y_2 = true_function(x_2)"
   ]
  },
  {
   "cell_type": "code",
   "execution_count": 76,
   "id": "ee8e29c8-6512-489d-9888-097d4f8e5619",
   "metadata": {
    "tags": []
   },
   "outputs": [],
   "source": [
    "import pandas as pd\n",
    "df_x_2 = pd.DataFrame(x_2,columns=[\"観測点\"])\n",
    "df_y_2 = pd.DataFrame(y_2, columns=[\"真値\"])\n",
    "df = pd.concat([df_x_2, df_y_2], axis=1)"
   ]
  },
  {
   "cell_type": "code",
   "execution_count": 77,
   "id": "d58b2a59-7a43-4d33-acc3-90d9946dffe8",
   "metadata": {
    "tags": []
   },
   "outputs": [
    {
     "data": {
      "text/html": [
       "<div>\n",
       "<style scoped>\n",
       "    .dataframe tbody tr th:only-of-type {\n",
       "        vertical-align: middle;\n",
       "    }\n",
       "\n",
       "    .dataframe tbody tr th {\n",
       "        vertical-align: top;\n",
       "    }\n",
       "\n",
       "    .dataframe thead th {\n",
       "        text-align: right;\n",
       "    }\n",
       "</style>\n",
       "<table border=\"1\" class=\"dataframe\">\n",
       "  <thead>\n",
       "    <tr style=\"text-align: right;\">\n",
       "      <th></th>\n",
       "      <th>観測点</th>\n",
       "      <th>真値</th>\n",
       "    </tr>\n",
       "  </thead>\n",
       "  <tbody>\n",
       "    <tr>\n",
       "      <th>0</th>\n",
       "      <td>0.097627</td>\n",
       "      <td>2.429089</td>\n",
       "    </tr>\n",
       "    <tr>\n",
       "      <th>1</th>\n",
       "      <td>0.430379</td>\n",
       "      <td>8.827389</td>\n",
       "    </tr>\n",
       "    <tr>\n",
       "      <th>2</th>\n",
       "      <td>0.205527</td>\n",
       "      <td>4.938789</td>\n",
       "    </tr>\n",
       "    <tr>\n",
       "      <th>3</th>\n",
       "      <td>0.089766</td>\n",
       "      <td>2.236985</td>\n",
       "    </tr>\n",
       "    <tr>\n",
       "      <th>4</th>\n",
       "      <td>-0.152690</td>\n",
       "      <td>-3.744030</td>\n",
       "    </tr>\n",
       "    <tr>\n",
       "      <th>5</th>\n",
       "      <td>0.291788</td>\n",
       "      <td>6.693576</td>\n",
       "    </tr>\n",
       "    <tr>\n",
       "      <th>6</th>\n",
       "      <td>-0.124826</td>\n",
       "      <td>-3.086000</td>\n",
       "    </tr>\n",
       "    <tr>\n",
       "      <th>7</th>\n",
       "      <td>0.783546</td>\n",
       "      <td>9.216559</td>\n",
       "    </tr>\n",
       "    <tr>\n",
       "      <th>8</th>\n",
       "      <td>0.927326</td>\n",
       "      <td>7.249552</td>\n",
       "    </tr>\n",
       "    <tr>\n",
       "      <th>9</th>\n",
       "      <td>-0.233117</td>\n",
       "      <td>-5.529385</td>\n",
       "    </tr>\n",
       "    <tr>\n",
       "      <th>10</th>\n",
       "      <td>0.583450</td>\n",
       "      <td>9.945525</td>\n",
       "    </tr>\n",
       "    <tr>\n",
       "      <th>11</th>\n",
       "      <td>0.057790</td>\n",
       "      <td>1.447316</td>\n",
       "    </tr>\n",
       "    <tr>\n",
       "      <th>12</th>\n",
       "      <td>0.136089</td>\n",
       "      <td>3.353995</td>\n",
       "    </tr>\n",
       "    <tr>\n",
       "      <th>13</th>\n",
       "      <td>0.851193</td>\n",
       "      <td>8.427172</td>\n",
       "    </tr>\n",
       "    <tr>\n",
       "      <th>14</th>\n",
       "      <td>-0.857928</td>\n",
       "      <td>-8.334847</td>\n",
       "    </tr>\n",
       "    <tr>\n",
       "      <th>15</th>\n",
       "      <td>-0.825741</td>\n",
       "      <td>-8.754075</td>\n",
       "    </tr>\n",
       "    <tr>\n",
       "      <th>16</th>\n",
       "      <td>-0.959563</td>\n",
       "      <td>-6.668303</td>\n",
       "    </tr>\n",
       "    <tr>\n",
       "      <th>17</th>\n",
       "      <td>0.665240</td>\n",
       "      <td>9.948904</td>\n",
       "    </tr>\n",
       "    <tr>\n",
       "      <th>18</th>\n",
       "      <td>0.556314</td>\n",
       "      <td>9.851368</td>\n",
       "    </tr>\n",
       "    <tr>\n",
       "      <th>19</th>\n",
       "      <td>0.740024</td>\n",
       "      <td>9.585044</td>\n",
       "    </tr>\n",
       "  </tbody>\n",
       "</table>\n",
       "</div>"
      ],
      "text/plain": [
       "         観測点        真値\n",
       "0   0.097627  2.429089\n",
       "1   0.430379  8.827389\n",
       "2   0.205527  4.938789\n",
       "3   0.089766  2.236985\n",
       "4  -0.152690 -3.744030\n",
       "5   0.291788  6.693576\n",
       "6  -0.124826 -3.086000\n",
       "7   0.783546  9.216559\n",
       "8   0.927326  7.249552\n",
       "9  -0.233117 -5.529385\n",
       "10  0.583450  9.945525\n",
       "11  0.057790  1.447316\n",
       "12  0.136089  3.353995\n",
       "13  0.851193  8.427172\n",
       "14 -0.857928 -8.334847\n",
       "15 -0.825741 -8.754075\n",
       "16 -0.959563 -6.668303\n",
       "17  0.665240  9.948904\n",
       "18  0.556314  9.851368\n",
       "19  0.740024  9.585044"
      ]
     },
     "execution_count": 77,
     "metadata": {},
     "output_type": "execute_result"
    }
   ],
   "source": [
    "df"
   ]
  },
  {
   "cell_type": "code",
   "execution_count": 81,
   "id": "17fefc8b-dfab-405f-b9c0-dd6ce271f016",
   "metadata": {
    "tags": []
   },
   "outputs": [
    {
     "data": {
      "image/png": "[encoded data removed]",
      "text/plain": [
       "<Figure size 640x480 with 1 Axes>"
      ]
     },
     "metadata": {},
     "output_type": "display_data"
    }
   ],
   "source": [
    "x = np.arange(-1, 1 , 0.1)\n",
    "y = true_function(x)\n",
    "import matplotlib.pyplot as plt\n",
    "plt.xlabel(\"X\")\n",
    "plt.ylabel(\"Y\")\n",
    "plt.plot(x, y,label=\"sin\")\n",
    "plt.plot(x_2,y_2,'.', label=\"ex1.2\",markersize=15)\n",
    "plt.legend()\n",
    "plt.savefig(\"ex1.2.png\")\n",
    "plt.show()"
   ]
  },
  {
   "cell_type": "code",
   "execution_count": null,
   "id": "0ea7b96a-3f51-4d7f-aaea-5a4319dd47d3",
   "metadata": {},
   "outputs": [],
   "source": []
  }
 ],
 "metadata": {
  "kernelspec": {
   "display_name": "Python 3 (ipykernel)",
   "language": "python",
   "name": "python3"
  },
  "language_info": {
   "codemirror_mode": {
    "name": "ipython",
    "version": 3
   },
   "file_extension": ".py",
   "mimetype": "text/x-python",
   "name": "python",
   "nbconvert_exporter": "python",
   "pygments_lexer": "ipython3",
   "version": "3.9.6"
  }
 },
 "nbformat": 4,
 "nbformat_minor": 5
}
