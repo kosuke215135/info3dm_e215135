{
 "cells": [
  {
   "cell_type": "code",
   "execution_count": 15,
   "id": "c1ce8f30-c771-4934-ba76-9e33889ea74f",
   "metadata": {
    "tags": []
   },
   "outputs": [],
   "source": [
    "import numpy as np\n",
    "noizu = np.random.normal(loc=0.0, scale=2.0, size=20)"
   ]
  },
  {
   "cell_type": "code",
   "execution_count": 16,
   "id": "d06d0eae-dfb6-4ca6-a0bd-c1f8dd04b6d0",
   "metadata": {
    "tags": []
   },
   "outputs": [
    {
     "data": {
      "text/plain": [
       "array([ 2.85661596, -0.08342875, -1.51583241,  3.67853929, -0.41700271,\n",
       "        0.35996122, -1.01090296,  1.23252389, -0.79349464,  0.87227472,\n",
       "       -0.06030438, -1.84544646, -0.8544151 , -2.11077223,  0.85942482,\n",
       "        0.38016721,  0.58282543, -2.1911465 ,  1.90770541,  3.25075806])"
      ]
     },
     "execution_count": 16,
     "metadata": {},
     "output_type": "execute_result"
    }
   ],
   "source": [
    "noizu"
   ]
  },
  {
   "cell_type": "code",
   "execution_count": 17,
   "id": "d2cbd501-f332-4d7d-a557-17b2ccb97b45",
   "metadata": {
    "tags": []
   },
   "outputs": [],
   "source": [
    "noizu = noizu/2"
   ]
  },
  {
   "cell_type": "code",
   "execution_count": 18,
   "id": "f093fd07-b9ab-4b55-9861-018473c3d0b9",
   "metadata": {
    "tags": []
   },
   "outputs": [
    {
     "data": {
      "text/plain": [
       "array([ 1.42830798, -0.04171437, -0.75791621,  1.83926965, -0.20850135,\n",
       "        0.17998061, -0.50545148,  0.61626195, -0.39674732,  0.43613736,\n",
       "       -0.03015219, -0.92272323, -0.42720755, -1.05538612,  0.42971241,\n",
       "        0.19008361,  0.29141271, -1.09557325,  0.95385271,  1.62537903])"
      ]
     },
     "execution_count": 18,
     "metadata": {},
     "output_type": "execute_result"
    }
   ],
   "source": [
    "noizu"
   ]
  },
  {
   "cell_type": "code",
   "execution_count": 19,
   "id": "80053828-9c42-4f7f-8996-d3100e71d4aa",
   "metadata": {
    "tags": []
   },
   "outputs": [],
   "source": [
    "import pandas as pd\n",
    "df1_2 = pd.read_csv(\"df1_2.csv\")"
   ]
  },
  {
   "cell_type": "code",
   "execution_count": 20,
   "id": "d336a6cf-17c3-446e-b950-3a8b605cb357",
   "metadata": {
    "tags": []
   },
   "outputs": [],
   "source": [
    "true_nums = df1_2[\"真値\"]"
   ]
  },
  {
   "cell_type": "code",
   "execution_count": 21,
   "id": "566d3453-f7ff-4af1-9eed-262cd535f699",
   "metadata": {
    "tags": []
   },
   "outputs": [],
   "source": [
    "type(true_nums.values)\n",
    "nd_true_nums = true_nums.values"
   ]
  },
  {
   "cell_type": "code",
   "execution_count": 22,
   "id": "97710d91-c6c6-4799-80d7-fec54582220a",
   "metadata": {
    "tags": []
   },
   "outputs": [],
   "source": [
    "noizu_plus_true_nums = nd_true_nums + noizu"
   ]
  },
  {
   "cell_type": "code",
   "execution_count": 23,
   "id": "fa7de202-41b4-4bcf-ab21-125016ada6cd",
   "metadata": {
    "tags": []
   },
   "outputs": [],
   "source": [
    "df_noizu = pd.DataFrame(noizu_plus_true_nums, columns=[\"観測値\"])\n",
    "df = pd.concat([df1_2, df_noizu], axis=1)"
   ]
  },
  {
   "cell_type": "code",
   "execution_count": 24,
   "id": "71d2a44c-6b71-40bd-9ab7-aac588a6e84d",
   "metadata": {
    "tags": []
   },
   "outputs": [
    {
     "data": {
      "text/html": [
       "<div>\n",
       "<style scoped>\n",
       "    .dataframe tbody tr th:only-of-type {\n",
       "        vertical-align: middle;\n",
       "    }\n",
       "\n",
       "    .dataframe tbody tr th {\n",
       "        vertical-align: top;\n",
       "    }\n",
       "\n",
       "    .dataframe thead th {\n",
       "        text-align: right;\n",
       "    }\n",
       "</style>\n",
       "<table border=\"1\" class=\"dataframe\">\n",
       "  <thead>\n",
       "    <tr style=\"text-align: right;\">\n",
       "      <th></th>\n",
       "      <th>Unnamed: 0</th>\n",
       "      <th>観測点</th>\n",
       "      <th>真値</th>\n",
       "      <th>観測値</th>\n",
       "    </tr>\n",
       "  </thead>\n",
       "  <tbody>\n",
       "    <tr>\n",
       "      <th>0</th>\n",
       "      <td>0</td>\n",
       "      <td>0.097627</td>\n",
       "      <td>2.429089</td>\n",
       "      <td>3.857397</td>\n",
       "    </tr>\n",
       "    <tr>\n",
       "      <th>1</th>\n",
       "      <td>1</td>\n",
       "      <td>0.430379</td>\n",
       "      <td>8.827389</td>\n",
       "      <td>8.785674</td>\n",
       "    </tr>\n",
       "    <tr>\n",
       "      <th>2</th>\n",
       "      <td>2</td>\n",
       "      <td>0.205527</td>\n",
       "      <td>4.938789</td>\n",
       "      <td>4.180873</td>\n",
       "    </tr>\n",
       "    <tr>\n",
       "      <th>3</th>\n",
       "      <td>3</td>\n",
       "      <td>0.089766</td>\n",
       "      <td>2.236985</td>\n",
       "      <td>4.076255</td>\n",
       "    </tr>\n",
       "    <tr>\n",
       "      <th>4</th>\n",
       "      <td>4</td>\n",
       "      <td>-0.152690</td>\n",
       "      <td>-3.744030</td>\n",
       "      <td>-3.952531</td>\n",
       "    </tr>\n",
       "    <tr>\n",
       "      <th>5</th>\n",
       "      <td>5</td>\n",
       "      <td>0.291788</td>\n",
       "      <td>6.693576</td>\n",
       "      <td>6.873557</td>\n",
       "    </tr>\n",
       "    <tr>\n",
       "      <th>6</th>\n",
       "      <td>6</td>\n",
       "      <td>-0.124826</td>\n",
       "      <td>-3.086000</td>\n",
       "      <td>-3.591452</td>\n",
       "    </tr>\n",
       "    <tr>\n",
       "      <th>7</th>\n",
       "      <td>7</td>\n",
       "      <td>0.783546</td>\n",
       "      <td>9.216559</td>\n",
       "      <td>9.832821</td>\n",
       "    </tr>\n",
       "    <tr>\n",
       "      <th>8</th>\n",
       "      <td>8</td>\n",
       "      <td>0.927326</td>\n",
       "      <td>7.249552</td>\n",
       "      <td>6.852805</td>\n",
       "    </tr>\n",
       "    <tr>\n",
       "      <th>9</th>\n",
       "      <td>9</td>\n",
       "      <td>-0.233117</td>\n",
       "      <td>-5.529385</td>\n",
       "      <td>-5.093248</td>\n",
       "    </tr>\n",
       "    <tr>\n",
       "      <th>10</th>\n",
       "      <td>10</td>\n",
       "      <td>0.583450</td>\n",
       "      <td>9.945525</td>\n",
       "      <td>9.915373</td>\n",
       "    </tr>\n",
       "    <tr>\n",
       "      <th>11</th>\n",
       "      <td>11</td>\n",
       "      <td>0.057790</td>\n",
       "      <td>1.447316</td>\n",
       "      <td>0.524593</td>\n",
       "    </tr>\n",
       "    <tr>\n",
       "      <th>12</th>\n",
       "      <td>12</td>\n",
       "      <td>0.136089</td>\n",
       "      <td>3.353995</td>\n",
       "      <td>2.926788</td>\n",
       "    </tr>\n",
       "    <tr>\n",
       "      <th>13</th>\n",
       "      <td>13</td>\n",
       "      <td>0.851193</td>\n",
       "      <td>8.427172</td>\n",
       "      <td>7.371786</td>\n",
       "    </tr>\n",
       "    <tr>\n",
       "      <th>14</th>\n",
       "      <td>14</td>\n",
       "      <td>-0.857928</td>\n",
       "      <td>-8.334847</td>\n",
       "      <td>-7.905135</td>\n",
       "    </tr>\n",
       "    <tr>\n",
       "      <th>15</th>\n",
       "      <td>15</td>\n",
       "      <td>-0.825741</td>\n",
       "      <td>-8.754075</td>\n",
       "      <td>-8.563991</td>\n",
       "    </tr>\n",
       "    <tr>\n",
       "      <th>16</th>\n",
       "      <td>16</td>\n",
       "      <td>-0.959563</td>\n",
       "      <td>-6.668303</td>\n",
       "      <td>-6.376891</td>\n",
       "    </tr>\n",
       "    <tr>\n",
       "      <th>17</th>\n",
       "      <td>17</td>\n",
       "      <td>0.665240</td>\n",
       "      <td>9.948904</td>\n",
       "      <td>8.853331</td>\n",
       "    </tr>\n",
       "    <tr>\n",
       "      <th>18</th>\n",
       "      <td>18</td>\n",
       "      <td>0.556314</td>\n",
       "      <td>9.851368</td>\n",
       "      <td>10.805220</td>\n",
       "    </tr>\n",
       "    <tr>\n",
       "      <th>19</th>\n",
       "      <td>19</td>\n",
       "      <td>0.740024</td>\n",
       "      <td>9.585044</td>\n",
       "      <td>11.210423</td>\n",
       "    </tr>\n",
       "  </tbody>\n",
       "</table>\n",
       "</div>"
      ],
      "text/plain": [
       "    Unnamed: 0       観測点        真値        観測値\n",
       "0            0  0.097627  2.429089   3.857397\n",
       "1            1  0.430379  8.827389   8.785674\n",
       "2            2  0.205527  4.938789   4.180873\n",
       "3            3  0.089766  2.236985   4.076255\n",
       "4            4 -0.152690 -3.744030  -3.952531\n",
       "5            5  0.291788  6.693576   6.873557\n",
       "6            6 -0.124826 -3.086000  -3.591452\n",
       "7            7  0.783546  9.216559   9.832821\n",
       "8            8  0.927326  7.249552   6.852805\n",
       "9            9 -0.233117 -5.529385  -5.093248\n",
       "10          10  0.583450  9.945525   9.915373\n",
       "11          11  0.057790  1.447316   0.524593\n",
       "12          12  0.136089  3.353995   2.926788\n",
       "13          13  0.851193  8.427172   7.371786\n",
       "14          14 -0.857928 -8.334847  -7.905135\n",
       "15          15 -0.825741 -8.754075  -8.563991\n",
       "16          16 -0.959563 -6.668303  -6.376891\n",
       "17          17  0.665240  9.948904   8.853331\n",
       "18          18  0.556314  9.851368  10.805220\n",
       "19          19  0.740024  9.585044  11.210423"
      ]
     },
     "execution_count": 24,
     "metadata": {},
     "output_type": "execute_result"
    }
   ],
   "source": [
    "df"
   ]
  },
  {
   "cell_type": "code",
   "execution_count": 26,
   "id": "09ca5b7d-6bf2-4d29-abb5-aedf709fefe9",
   "metadata": {
    "tags": []
   },
   "outputs": [
    {
     "data": {
      "image/png": "[encoded data removed]",
      "text/plain": [
       "<Figure size 640x480 with 1 Axes>"
      ]
     },
     "metadata": {},
     "output_type": "display_data"
    }
   ],
   "source": [
    "x_2 = df1_2[\"観測点\"]\n",
    "y_2 = df1_2[\"真値\"]\n",
    "\n",
    "#lesson1_1.ipynbより\n",
    "def true_function(x):\n",
    "    return np.sin(np.pi * x * 0.8) * 10\n",
    "x = np.arange(-1, 1 , 0.1)\n",
    "y = true_function(x)\n",
    "import matplotlib.pyplot as plt\n",
    "plt.xlabel(\"X\")\n",
    "plt.ylabel(\"Y\")\n",
    "plt.plot(x, y,label=\"sin\")\n",
    "plt.plot(x_2,y_2,'.', label=\"ex1.2\",markersize=15)\n",
    "plt.plot(x_2,noizu_plus_true_nums,'.', label=\"ex1.3\",markersize=15)\n",
    "plt.legend()\n",
    "plt.savefig(\"ex1.3.png\")\n",
    "plt.show()"
   ]
  },
  {
   "cell_type": "code",
   "execution_count": null,
   "id": "4748f5c1-1113-4ef8-b2d8-ccd51cbfa293",
   "metadata": {},
   "outputs": [],
   "source": []
  }
 ],
 "metadata": {
  "kernelspec": {
   "display_name": "Python 3 (ipykernel)",
   "language": "python",
   "name": "python3"
  },
  "language_info": {
   "codemirror_mode": {
    "name": "ipython",
    "version": 3
   },
   "file_extension": ".py",
   "mimetype": "text/x-python",
   "name": "python",
   "nbconvert_exporter": "python",
   "pygments_lexer": "ipython3",
   "version": "3.9.6"
  }
 },
 "nbformat": 4,
 "nbformat_minor": 5
}
